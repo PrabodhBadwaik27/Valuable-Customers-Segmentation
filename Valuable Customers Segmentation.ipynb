{
 "cells": [
  {
   "cell_type": "markdown",
   "metadata": {},
   "source": [
    "## Valuable Customers Segmentation\n",
    "\n",
    "### Problem Statement\n",
    "\"The 80/20 Principle asserts that a minority of causes, inputs, or efforts usually lead to a majority of the results, outputs, or rewards.\"  \n",
    "Client believes that out of the wide customer base shopping from their medium size bikes & cycling accessories organisation, most valuable customers can be filtered out to optimize its marketing strategies. \n",
    "\n",
    "### Objective\n",
    "Being provided with the data regarding customer and transactions details, we are expected to select most valuable 1000 customers based on the information given in datasets.\n",
    "\n",
    "### Available Datasets\n",
    "File Name: KPMG-Sprocket.xlsx\n",
    "1. Transactions\n",
    "2. CustomerDemographic\n",
    "3. CustomerAddress"
   ]
  }
 ],
 "metadata": {
  "kernelspec": {
   "display_name": "Python 3",
   "language": "python",
   "name": "python3"
  },
  "language_info": {
   "codemirror_mode": {
    "name": "ipython",
    "version": 3
   },
   "file_extension": ".py",
   "mimetype": "text/x-python",
   "name": "python",
   "nbconvert_exporter": "python",
   "pygments_lexer": "ipython3",
   "version": "3.7.6"
  }
 },
 "nbformat": 4,
 "nbformat_minor": 4
}
