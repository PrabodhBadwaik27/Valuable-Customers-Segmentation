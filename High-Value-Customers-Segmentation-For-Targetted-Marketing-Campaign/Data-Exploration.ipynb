{
 "cells": [
  {
   "cell_type": "markdown",
   "metadata": {},
   "source": [
    "### Original Dataset: 'D0-KPMG_VI_New_raw_data_update_final.xlsx'"
   ]
  },
  {
   "cell_type": "markdown",
   "metadata": {},
   "source": [
    "### Dataset used: 'D2-Preprocessed-Dataset.xlsx'"
   ]
  },
  {
   "cell_type": "markdown",
   "metadata": {},
   "source": [
    "### Steps Followed\n",
    "1. **Data Exploration ('Data-Transformation.ipynb' - Data Exploration)**  \n",
    "    1.1 Select Target Variable   \n",
    "    1.2 Type of Target Variable & Model type  \n",
    "    1.3 Review Relevancy ('N2-Attributes-Relevancy-Review.docx')  \n",
    "    1.4 Bivariate Analysis  \n",
    "    1.5 Outliers Analysis  \n",
    "  \n",
    "2. **Data Transformation ('Data-Transformation.ipynb' - Data Transformation)**  \n",
    "    2.1 Missing Value Treatment  \n",
    "    2.2 Outlier Treatment  \n",
    "    2.3 Feature Engineering  "
   ]
  },
  {
   "cell_type": "markdown",
   "metadata": {},
   "source": [
    "## Importing Libraries and Datasets"
   ]
  },
  {
   "cell_type": "code",
   "execution_count": 65,
   "metadata": {},
   "outputs": [],
   "source": [
    "import numpy as np\n",
    "import pandas as pd\n",
    "import seaborn as sns\n",
    "import matplotlib.pyplot as plt"
   ]
  },
  {
   "cell_type": "code",
   "execution_count": 67,
   "metadata": {},
   "outputs": [],
   "source": [
    "prepdata_tx = pd.read_excel(\"D2-Preprocessed-Dataset.xlsx\", sheet_name=\"Transactions\")\n",
    "prepdata_cu = pd.read_excel(\"D2-Preprocessed-Dataset.xlsx\", sheet_name=\"CustomerInfo\")"
   ]
  },
  {
   "cell_type": "markdown",
   "metadata": {},
   "source": [
    "# Data Exploration"
   ]
  },
  {
   "cell_type": "markdown",
   "metadata": {},
   "source": [
    "# Processed Dataset for Modelling"
   ]
  },
  {
   "cell_type": "code",
   "execution_count": null,
   "metadata": {},
   "outputs": [],
   "source": []
  }
 ],
 "metadata": {
  "kernelspec": {
   "display_name": "Python 3",
   "language": "python",
   "name": "python3"
  },
  "language_info": {
   "codemirror_mode": {
    "name": "ipython",
    "version": 3
   },
   "file_extension": ".py",
   "mimetype": "text/x-python",
   "name": "python",
   "nbconvert_exporter": "python",
   "pygments_lexer": "ipython3",
   "version": "3.7.6"
  }
 },
 "nbformat": 4,
 "nbformat_minor": 4
}
