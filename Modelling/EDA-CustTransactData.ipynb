{
 "cells": [
  {
   "cell_type": "code",
   "execution_count": 8,
   "metadata": {},
   "outputs": [],
   "source": [
    "import pandas as pd\n",
    "import seaborn as sns\n",
    "import matplotlib.pyplot as plt\n",
    "\n",
    "CustTransactData = pd.read_csv(\"CustTransactData-wAvgSales.csv\")"
   ]
  },
  {
   "cell_type": "code",
   "execution_count": 9,
   "metadata": {},
   "outputs": [
    {
     "data": {
      "text/html": [
       "<div>\n",
       "<style scoped>\n",
       "    .dataframe tbody tr th:only-of-type {\n",
       "        vertical-align: middle;\n",
       "    }\n",
       "\n",
       "    .dataframe tbody tr th {\n",
       "        vertical-align: top;\n",
       "    }\n",
       "\n",
       "    .dataframe thead th {\n",
       "        text-align: right;\n",
       "    }\n",
       "</style>\n",
       "<table border=\"1\" class=\"dataframe\">\n",
       "  <thead>\n",
       "    <tr style=\"text-align: right;\">\n",
       "      <th></th>\n",
       "      <th>customer_id</th>\n",
       "      <th>gender</th>\n",
       "      <th>past_3_years_bike_related_purchases</th>\n",
       "      <th>job_industry_category</th>\n",
       "      <th>wealth_segment</th>\n",
       "      <th>owns_car</th>\n",
       "      <th>tenure</th>\n",
       "      <th>Age</th>\n",
       "      <th>state</th>\n",
       "      <th>property_valuation</th>\n",
       "      <th>sales_profit</th>\n",
       "    </tr>\n",
       "  </thead>\n",
       "  <tbody>\n",
       "    <tr>\n",
       "      <th>0</th>\n",
       "      <td>1</td>\n",
       "      <td>1</td>\n",
       "      <td>93</td>\n",
       "      <td>1.0</td>\n",
       "      <td>1</td>\n",
       "      <td>1</td>\n",
       "      <td>11.0</td>\n",
       "      <td>64.0</td>\n",
       "      <td>2.0</td>\n",
       "      <td>10.0</td>\n",
       "      <td>274.371818</td>\n",
       "    </tr>\n",
       "    <tr>\n",
       "      <th>1</th>\n",
       "      <td>2</td>\n",
       "      <td>0</td>\n",
       "      <td>81</td>\n",
       "      <td>2.0</td>\n",
       "      <td>1</td>\n",
       "      <td>1</td>\n",
       "      <td>16.0</td>\n",
       "      <td>37.0</td>\n",
       "      <td>2.0</td>\n",
       "      <td>10.0</td>\n",
       "      <td>742.086667</td>\n",
       "    </tr>\n",
       "    <tr>\n",
       "      <th>2</th>\n",
       "      <td>3</td>\n",
       "      <td>0</td>\n",
       "      <td>61</td>\n",
       "      <td>3.0</td>\n",
       "      <td>1</td>\n",
       "      <td>1</td>\n",
       "      <td>15.0</td>\n",
       "      <td>63.0</td>\n",
       "      <td>2.0</td>\n",
       "      <td>7.0</td>\n",
       "      <td>420.351250</td>\n",
       "    </tr>\n",
       "    <tr>\n",
       "      <th>3</th>\n",
       "      <td>4</td>\n",
       "      <td>0</td>\n",
       "      <td>33</td>\n",
       "      <td>4.0</td>\n",
       "      <td>1</td>\n",
       "      <td>0</td>\n",
       "      <td>7.0</td>\n",
       "      <td>56.0</td>\n",
       "      <td>1.0</td>\n",
       "      <td>9.0</td>\n",
       "      <td>110.285000</td>\n",
       "    </tr>\n",
       "    <tr>\n",
       "      <th>4</th>\n",
       "      <td>5</td>\n",
       "      <td>1</td>\n",
       "      <td>56</td>\n",
       "      <td>7.0</td>\n",
       "      <td>2</td>\n",
       "      <td>1</td>\n",
       "      <td>8.0</td>\n",
       "      <td>40.0</td>\n",
       "      <td>2.0</td>\n",
       "      <td>4.0</td>\n",
       "      <td>399.156667</td>\n",
       "    </tr>\n",
       "  </tbody>\n",
       "</table>\n",
       "</div>"
      ],
      "text/plain": [
       "   customer_id  gender  past_3_years_bike_related_purchases  \\\n",
       "0            1       1                                   93   \n",
       "1            2       0                                   81   \n",
       "2            3       0                                   61   \n",
       "3            4       0                                   33   \n",
       "4            5       1                                   56   \n",
       "\n",
       "   job_industry_category  wealth_segment  owns_car  tenure   Age  state  \\\n",
       "0                    1.0               1         1    11.0  64.0    2.0   \n",
       "1                    2.0               1         1    16.0  37.0    2.0   \n",
       "2                    3.0               1         1    15.0  63.0    2.0   \n",
       "3                    4.0               1         0     7.0  56.0    1.0   \n",
       "4                    7.0               2         1     8.0  40.0    2.0   \n",
       "\n",
       "   property_valuation  sales_profit  \n",
       "0                10.0    274.371818  \n",
       "1                10.0    742.086667  \n",
       "2                 7.0    420.351250  \n",
       "3                 9.0    110.285000  \n",
       "4                 4.0    399.156667  "
      ]
     },
     "execution_count": 9,
     "metadata": {},
     "output_type": "execute_result"
    }
   ],
   "source": [
    "CustTransactData.head()"
   ]
  },
  {
   "cell_type": "code",
   "execution_count": 35,
   "metadata": {},
   "outputs": [
    {
     "data": {
      "text/html": [
       "<div>\n",
       "<style scoped>\n",
       "    .dataframe tbody tr th:only-of-type {\n",
       "        vertical-align: middle;\n",
       "    }\n",
       "\n",
       "    .dataframe tbody tr th {\n",
       "        vertical-align: top;\n",
       "    }\n",
       "\n",
       "    .dataframe thead th {\n",
       "        text-align: right;\n",
       "    }\n",
       "</style>\n",
       "<table border=\"1\" class=\"dataframe\">\n",
       "  <thead>\n",
       "    <tr style=\"text-align: right;\">\n",
       "      <th></th>\n",
       "      <th>customer_id</th>\n",
       "      <th>gender</th>\n",
       "      <th>past_3_years_bike_related_purchases</th>\n",
       "      <th>job_industry_category</th>\n",
       "      <th>wealth_segment</th>\n",
       "      <th>owns_car</th>\n",
       "      <th>tenure</th>\n",
       "      <th>Age</th>\n",
       "      <th>state</th>\n",
       "      <th>property_valuation</th>\n",
       "      <th>sales_profit</th>\n",
       "    </tr>\n",
       "  </thead>\n",
       "  <tbody>\n",
       "    <tr>\n",
       "      <th>count</th>\n",
       "      <td>3486.000000</td>\n",
       "      <td>3486.000000</td>\n",
       "      <td>3486.000000</td>\n",
       "      <td>3486.000000</td>\n",
       "      <td>3486.000000</td>\n",
       "      <td>3486.000000</td>\n",
       "      <td>3486.000000</td>\n",
       "      <td>3486.000000</td>\n",
       "      <td>3486.000000</td>\n",
       "      <td>3486.000000</td>\n",
       "      <td>3486.000000</td>\n",
       "    </tr>\n",
       "    <tr>\n",
       "      <th>mean</th>\n",
       "      <td>1750.825301</td>\n",
       "      <td>0.547619</td>\n",
       "      <td>48.783419</td>\n",
       "      <td>4.561675</td>\n",
       "      <td>1.755881</td>\n",
       "      <td>0.506885</td>\n",
       "      <td>10.688468</td>\n",
       "      <td>39.773953</td>\n",
       "      <td>2.038726</td>\n",
       "      <td>7.515777</td>\n",
       "      <td>550.353386</td>\n",
       "    </tr>\n",
       "    <tr>\n",
       "      <th>std</th>\n",
       "      <td>1010.141020</td>\n",
       "      <td>0.539832</td>\n",
       "      <td>28.604419</td>\n",
       "      <td>2.557810</td>\n",
       "      <td>0.835245</td>\n",
       "      <td>0.500024</td>\n",
       "      <td>5.613922</td>\n",
       "      <td>12.371067</td>\n",
       "      <td>0.680487</td>\n",
       "      <td>2.820840</td>\n",
       "      <td>236.867315</td>\n",
       "    </tr>\n",
       "    <tr>\n",
       "      <th>min</th>\n",
       "      <td>1.000000</td>\n",
       "      <td>0.000000</td>\n",
       "      <td>0.000000</td>\n",
       "      <td>1.000000</td>\n",
       "      <td>1.000000</td>\n",
       "      <td>0.000000</td>\n",
       "      <td>1.000000</td>\n",
       "      <td>15.000000</td>\n",
       "      <td>1.000000</td>\n",
       "      <td>1.000000</td>\n",
       "      <td>15.080000</td>\n",
       "    </tr>\n",
       "    <tr>\n",
       "      <th>25%</th>\n",
       "      <td>878.250000</td>\n",
       "      <td>0.000000</td>\n",
       "      <td>24.000000</td>\n",
       "      <td>2.000000</td>\n",
       "      <td>1.000000</td>\n",
       "      <td>0.000000</td>\n",
       "      <td>6.000000</td>\n",
       "      <td>31.000000</td>\n",
       "      <td>2.000000</td>\n",
       "      <td>6.000000</td>\n",
       "      <td>385.707273</td>\n",
       "    </tr>\n",
       "    <tr>\n",
       "      <th>50%</th>\n",
       "      <td>1751.500000</td>\n",
       "      <td>1.000000</td>\n",
       "      <td>48.000000</td>\n",
       "      <td>5.000000</td>\n",
       "      <td>1.000000</td>\n",
       "      <td>1.000000</td>\n",
       "      <td>11.000000</td>\n",
       "      <td>40.000000</td>\n",
       "      <td>2.000000</td>\n",
       "      <td>8.000000</td>\n",
       "      <td>531.798125</td>\n",
       "    </tr>\n",
       "    <tr>\n",
       "      <th>75%</th>\n",
       "      <td>2624.750000</td>\n",
       "      <td>1.000000</td>\n",
       "      <td>73.000000</td>\n",
       "      <td>7.000000</td>\n",
       "      <td>3.000000</td>\n",
       "      <td>1.000000</td>\n",
       "      <td>15.000000</td>\n",
       "      <td>49.000000</td>\n",
       "      <td>3.000000</td>\n",
       "      <td>10.000000</td>\n",
       "      <td>695.792571</td>\n",
       "    </tr>\n",
       "    <tr>\n",
       "      <th>max</th>\n",
       "      <td>3500.000000</td>\n",
       "      <td>2.000000</td>\n",
       "      <td>99.000000</td>\n",
       "      <td>9.000000</td>\n",
       "      <td>3.000000</td>\n",
       "      <td>1.000000</td>\n",
       "      <td>22.000000</td>\n",
       "      <td>64.000000</td>\n",
       "      <td>3.000000</td>\n",
       "      <td>12.000000</td>\n",
       "      <td>1702.550000</td>\n",
       "    </tr>\n",
       "  </tbody>\n",
       "</table>\n",
       "</div>"
      ],
      "text/plain": [
       "       customer_id       gender  past_3_years_bike_related_purchases  \\\n",
       "count  3486.000000  3486.000000                          3486.000000   \n",
       "mean   1750.825301     0.547619                            48.783419   \n",
       "std    1010.141020     0.539832                            28.604419   \n",
       "min       1.000000     0.000000                             0.000000   \n",
       "25%     878.250000     0.000000                            24.000000   \n",
       "50%    1751.500000     1.000000                            48.000000   \n",
       "75%    2624.750000     1.000000                            73.000000   \n",
       "max    3500.000000     2.000000                            99.000000   \n",
       "\n",
       "       job_industry_category  wealth_segment     owns_car       tenure  \\\n",
       "count            3486.000000     3486.000000  3486.000000  3486.000000   \n",
       "mean                4.561675        1.755881     0.506885    10.688468   \n",
       "std                 2.557810        0.835245     0.500024     5.613922   \n",
       "min                 1.000000        1.000000     0.000000     1.000000   \n",
       "25%                 2.000000        1.000000     0.000000     6.000000   \n",
       "50%                 5.000000        1.000000     1.000000    11.000000   \n",
       "75%                 7.000000        3.000000     1.000000    15.000000   \n",
       "max                 9.000000        3.000000     1.000000    22.000000   \n",
       "\n",
       "               Age        state  property_valuation  sales_profit  \n",
       "count  3486.000000  3486.000000         3486.000000   3486.000000  \n",
       "mean     39.773953     2.038726            7.515777    550.353386  \n",
       "std      12.371067     0.680487            2.820840    236.867315  \n",
       "min      15.000000     1.000000            1.000000     15.080000  \n",
       "25%      31.000000     2.000000            6.000000    385.707273  \n",
       "50%      40.000000     2.000000            8.000000    531.798125  \n",
       "75%      49.000000     3.000000           10.000000    695.792571  \n",
       "max      64.000000     3.000000           12.000000   1702.550000  "
      ]
     },
     "execution_count": 35,
     "metadata": {},
     "output_type": "execute_result"
    }
   ],
   "source": [
    "CustTransactData.describe()"
   ]
  },
  {
   "cell_type": "markdown",
   "metadata": {},
   "source": [
    "## Bi-variate Analysis"
   ]
  },
  {
   "cell_type": "code",
   "execution_count": 19,
   "metadata": {},
   "outputs": [
    {
     "data": {
      "text/plain": [
       "<matplotlib.axes._subplots.AxesSubplot at 0x1b2ffedfa08>"
      ]
     },
     "execution_count": 19,
     "metadata": {},
     "output_type": "execute_result"
    },
    {
     "data": {
      "image/png": "[encoded data removed]",
      "text/plain": [
       "<Figure size 432x288 with 1 Axes>"
      ]
     },
     "metadata": {
      "needs_background": "light"
     },
     "output_type": "display_data"
    }
   ],
   "source": [
    "sns.boxplot(x=CustTransactData['state'], y=CustTransactData['sales_profit'])"
   ]
  },
  {
   "cell_type": "code",
   "execution_count": 20,
   "metadata": {},
   "outputs": [
    {
     "data": {
      "text/plain": [
       "<matplotlib.axes._subplots.AxesSubplot at 0x1b2fff71cc8>"
      ]
     },
     "execution_count": 20,
     "metadata": {},
     "output_type": "execute_result"
    },
    {
     "data": {
      "image/png": "[encoded data removed]",
      "text/plain": [
       "<Figure size 432x288 with 1 Axes>"
      ]
     },
     "metadata": {
      "needs_background": "light"
     },
     "output_type": "display_data"
    }
   ],
   "source": [
    "map_gender_sales = CustTransactData.groupby('state').sales_profit.sum()\n",
    "map_gender_sales.plot(kind='bar')"
   ]
  },
  {
   "cell_type": "markdown",
   "metadata": {},
   "source": [
    "##### 'gender' \n",
    "- same as before\n",
    "\n",
    "##### 'job_industry_category'\n",
    "- DESC {{7}, {2, 1}, {5, 3, 4, 9, 6, 8}}\n",
    "\n",
    "##### 'wealth_segment'\n",
    "- same as before\n",
    "\n",
    "##### 'owns_car'\n",
    "- same as before\n",
    "\n",
    "##### 'state'\n",
    "- same as before\n"
   ]
  },
  {
   "cell_type": "code",
   "execution_count": 33,
   "metadata": {},
   "outputs": [
    {
     "data": {
      "text/plain": [
       "<matplotlib.lines.Line2D at 0x1b2ff92a188>"
      ]
     },
     "execution_count": 33,
     "metadata": {},
     "output_type": "execute_result"
    },
    {
     "data": {
      "image/png": "[encoded data removed]",
      "text/plain": [
       "<Figure size 432x288 with 1 Axes>"
      ]
     },
     "metadata": {
      "needs_background": "light"
     },
     "output_type": "display_data"
    }
   ],
   "source": [
    "plt.scatter(x=CustTransactData['past_3_years_bike_related_purchases'], y=CustTransactData['sales_profit'])\n",
    "plt.axhline(y=1375, color='red')"
   ]
  },
  {
   "cell_type": "code",
   "execution_count": 32,
   "metadata": {},
   "outputs": [
    {
     "data": {
      "text/plain": [
       "<matplotlib.lines.Line2D at 0x1b2802d6e08>"
      ]
     },
     "execution_count": 32,
     "metadata": {},
     "output_type": "execute_result"
    },
    {
     "data": {
      "image/png": "[encoded data removed]",
      "text/plain": [
       "<Figure size 432x288 with 1 Axes>"
      ]
     },
     "metadata": {
      "needs_background": "light"
     },
     "output_type": "display_data"
    }
   ],
   "source": [
    "plt.scatter(x=CustTransactData['tenure'], y=CustTransactData['sales_profit'])\n",
    "plt.axhline(y=1375, color='red')"
   ]
  },
  {
   "cell_type": "code",
   "execution_count": 31,
   "metadata": {},
   "outputs": [
    {
     "data": {
      "text/plain": [
       "<matplotlib.lines.Line2D at 0x1b281507e48>"
      ]
     },
     "execution_count": 31,
     "metadata": {},
     "output_type": "execute_result"
    },
    {
     "data": {
      "image/png": "[encoded data removed]",
      "text/plain": [
       "<Figure size 432x288 with 1 Axes>"
      ]
     },
     "metadata": {
      "needs_background": "light"
     },
     "output_type": "display_data"
    }
   ],
   "source": [
    "plt.scatter(x=CustTransactData['Age'], y=CustTransactData['sales_profit'])\n",
    "plt.axhline(y=1375, color='red')"
   ]
  },
  {
   "cell_type": "code",
   "execution_count": 30,
   "metadata": {},
   "outputs": [
    {
     "data": {
      "text/plain": [
       "<matplotlib.lines.Line2D at 0x1b28149e908>"
      ]
     },
     "execution_count": 30,
     "metadata": {},
     "output_type": "execute_result"
    },
    {
     "data": {
      "image/png": "[encoded data removed]",
      "text/plain": [
       "<Figure size 432x288 with 1 Axes>"
      ]
     },
     "metadata": {
      "needs_background": "light"
     },
     "output_type": "display_data"
    }
   ],
   "source": [
    "plt.scatter(x=CustTransactData['property_valuation'], y=CustTransactData['sales_profit'])\n",
    "plt.axhline(y=1375, color='red')"
   ]
  },
  {
   "cell_type": "code",
   "execution_count": 34,
   "metadata": {},
   "outputs": [],
   "source": [
    "Copy_CustTransactData = CustTransactData"
   ]
  },
  {
   "cell_type": "code",
   "execution_count": 45,
   "metadata": {},
   "outputs": [],
   "source": [
    "#CustTransactData = Copy_CustTransactData"
   ]
  },
  {
   "cell_type": "code",
   "execution_count": 38,
   "metadata": {},
   "outputs": [
    {
     "data": {
      "text/html": [
       "<div>\n",
       "<style scoped>\n",
       "    .dataframe tbody tr th:only-of-type {\n",
       "        vertical-align: middle;\n",
       "    }\n",
       "\n",
       "    .dataframe tbody tr th {\n",
       "        vertical-align: top;\n",
       "    }\n",
       "\n",
       "    .dataframe thead th {\n",
       "        text-align: right;\n",
       "    }\n",
       "</style>\n",
       "<table border=\"1\" class=\"dataframe\">\n",
       "  <thead>\n",
       "    <tr style=\"text-align: right;\">\n",
       "      <th></th>\n",
       "      <th>customer_id</th>\n",
       "      <th>gender</th>\n",
       "      <th>past_3_years_bike_related_purchases</th>\n",
       "      <th>job_industry_category</th>\n",
       "      <th>wealth_segment</th>\n",
       "      <th>owns_car</th>\n",
       "      <th>tenure</th>\n",
       "      <th>Age</th>\n",
       "      <th>state</th>\n",
       "      <th>property_valuation</th>\n",
       "      <th>sales_profit</th>\n",
       "    </tr>\n",
       "  </thead>\n",
       "  <tbody>\n",
       "    <tr>\n",
       "      <th>count</th>\n",
       "      <td>3475.000000</td>\n",
       "      <td>3475.000000</td>\n",
       "      <td>3475.000000</td>\n",
       "      <td>3475.000000</td>\n",
       "      <td>3475.000000</td>\n",
       "      <td>3475.000000</td>\n",
       "      <td>3475.000000</td>\n",
       "      <td>3475.000000</td>\n",
       "      <td>3475.000000</td>\n",
       "      <td>3475.000000</td>\n",
       "      <td>3475.000000</td>\n",
       "    </tr>\n",
       "    <tr>\n",
       "      <th>mean</th>\n",
       "      <td>1750.952518</td>\n",
       "      <td>0.547626</td>\n",
       "      <td>48.776978</td>\n",
       "      <td>4.562302</td>\n",
       "      <td>1.757122</td>\n",
       "      <td>0.507338</td>\n",
       "      <td>10.686331</td>\n",
       "      <td>39.765180</td>\n",
       "      <td>2.037986</td>\n",
       "      <td>7.518273</td>\n",
       "      <td>547.285704</td>\n",
       "    </tr>\n",
       "    <tr>\n",
       "      <th>std</th>\n",
       "      <td>1009.596523</td>\n",
       "      <td>0.539960</td>\n",
       "      <td>28.608056</td>\n",
       "      <td>2.558316</td>\n",
       "      <td>0.835491</td>\n",
       "      <td>0.500018</td>\n",
       "      <td>5.613386</td>\n",
       "      <td>12.376603</td>\n",
       "      <td>0.680552</td>\n",
       "      <td>2.819538</td>\n",
       "      <td>230.794771</td>\n",
       "    </tr>\n",
       "    <tr>\n",
       "      <th>min</th>\n",
       "      <td>1.000000</td>\n",
       "      <td>0.000000</td>\n",
       "      <td>0.000000</td>\n",
       "      <td>1.000000</td>\n",
       "      <td>1.000000</td>\n",
       "      <td>0.000000</td>\n",
       "      <td>1.000000</td>\n",
       "      <td>15.000000</td>\n",
       "      <td>1.000000</td>\n",
       "      <td>1.000000</td>\n",
       "      <td>15.080000</td>\n",
       "    </tr>\n",
       "    <tr>\n",
       "      <th>25%</th>\n",
       "      <td>879.500000</td>\n",
       "      <td>0.000000</td>\n",
       "      <td>24.000000</td>\n",
       "      <td>2.000000</td>\n",
       "      <td>1.000000</td>\n",
       "      <td>0.000000</td>\n",
       "      <td>6.000000</td>\n",
       "      <td>31.000000</td>\n",
       "      <td>2.000000</td>\n",
       "      <td>6.000000</td>\n",
       "      <td>385.395000</td>\n",
       "    </tr>\n",
       "    <tr>\n",
       "      <th>50%</th>\n",
       "      <td>1752.000000</td>\n",
       "      <td>1.000000</td>\n",
       "      <td>48.000000</td>\n",
       "      <td>5.000000</td>\n",
       "      <td>2.000000</td>\n",
       "      <td>1.000000</td>\n",
       "      <td>11.000000</td>\n",
       "      <td>40.000000</td>\n",
       "      <td>2.000000</td>\n",
       "      <td>8.000000</td>\n",
       "      <td>531.162500</td>\n",
       "    </tr>\n",
       "    <tr>\n",
       "      <th>75%</th>\n",
       "      <td>2623.500000</td>\n",
       "      <td>1.000000</td>\n",
       "      <td>73.000000</td>\n",
       "      <td>7.000000</td>\n",
       "      <td>3.000000</td>\n",
       "      <td>1.000000</td>\n",
       "      <td>15.000000</td>\n",
       "      <td>49.000000</td>\n",
       "      <td>3.000000</td>\n",
       "      <td>10.000000</td>\n",
       "      <td>694.692000</td>\n",
       "    </tr>\n",
       "    <tr>\n",
       "      <th>max</th>\n",
       "      <td>3500.000000</td>\n",
       "      <td>2.000000</td>\n",
       "      <td>99.000000</td>\n",
       "      <td>9.000000</td>\n",
       "      <td>3.000000</td>\n",
       "      <td>1.000000</td>\n",
       "      <td>22.000000</td>\n",
       "      <td>64.000000</td>\n",
       "      <td>3.000000</td>\n",
       "      <td>12.000000</td>\n",
       "      <td>1365.655000</td>\n",
       "    </tr>\n",
       "  </tbody>\n",
       "</table>\n",
       "</div>"
      ],
      "text/plain": [
       "       customer_id       gender  past_3_years_bike_related_purchases  \\\n",
       "count  3475.000000  3475.000000                          3475.000000   \n",
       "mean   1750.952518     0.547626                            48.776978   \n",
       "std    1009.596523     0.539960                            28.608056   \n",
       "min       1.000000     0.000000                             0.000000   \n",
       "25%     879.500000     0.000000                            24.000000   \n",
       "50%    1752.000000     1.000000                            48.000000   \n",
       "75%    2623.500000     1.000000                            73.000000   \n",
       "max    3500.000000     2.000000                            99.000000   \n",
       "\n",
       "       job_industry_category  wealth_segment     owns_car       tenure  \\\n",
       "count            3475.000000     3475.000000  3475.000000  3475.000000   \n",
       "mean                4.562302        1.757122     0.507338    10.686331   \n",
       "std                 2.558316        0.835491     0.500018     5.613386   \n",
       "min                 1.000000        1.000000     0.000000     1.000000   \n",
       "25%                 2.000000        1.000000     0.000000     6.000000   \n",
       "50%                 5.000000        2.000000     1.000000    11.000000   \n",
       "75%                 7.000000        3.000000     1.000000    15.000000   \n",
       "max                 9.000000        3.000000     1.000000    22.000000   \n",
       "\n",
       "               Age        state  property_valuation  sales_profit  \n",
       "count  3475.000000  3475.000000         3475.000000   3475.000000  \n",
       "mean     39.765180     2.037986            7.518273    547.285704  \n",
       "std      12.376603     0.680552            2.819538    230.794771  \n",
       "min      15.000000     1.000000            1.000000     15.080000  \n",
       "25%      31.000000     2.000000            6.000000    385.395000  \n",
       "50%      40.000000     2.000000            8.000000    531.162500  \n",
       "75%      49.000000     3.000000           10.000000    694.692000  \n",
       "max      64.000000     3.000000           12.000000   1365.655000  "
      ]
     },
     "execution_count": 38,
     "metadata": {},
     "output_type": "execute_result"
    }
   ],
   "source": [
    "Copy_CustTransactData.describe()"
   ]
  },
  {
   "cell_type": "code",
   "execution_count": 46,
   "metadata": {},
   "outputs": [],
   "source": [
    "CustTransactData.drop(CustTransactData[CustTransactData['sales_profit']>1375].index, inplace=True)"
   ]
  },
  {
   "cell_type": "code",
   "execution_count": 47,
   "metadata": {},
   "outputs": [
    {
     "data": {
      "text/html": [
       "<div>\n",
       "<style scoped>\n",
       "    .dataframe tbody tr th:only-of-type {\n",
       "        vertical-align: middle;\n",
       "    }\n",
       "\n",
       "    .dataframe tbody tr th {\n",
       "        vertical-align: top;\n",
       "    }\n",
       "\n",
       "    .dataframe thead th {\n",
       "        text-align: right;\n",
       "    }\n",
       "</style>\n",
       "<table border=\"1\" class=\"dataframe\">\n",
       "  <thead>\n",
       "    <tr style=\"text-align: right;\">\n",
       "      <th></th>\n",
       "      <th>customer_id</th>\n",
       "      <th>gender</th>\n",
       "      <th>past_3_years_bike_related_purchases</th>\n",
       "      <th>job_industry_category</th>\n",
       "      <th>wealth_segment</th>\n",
       "      <th>owns_car</th>\n",
       "      <th>tenure</th>\n",
       "      <th>Age</th>\n",
       "      <th>state</th>\n",
       "      <th>property_valuation</th>\n",
       "      <th>sales_profit</th>\n",
       "    </tr>\n",
       "  </thead>\n",
       "  <tbody>\n",
       "    <tr>\n",
       "      <th>count</th>\n",
       "      <td>3475.000000</td>\n",
       "      <td>3475.000000</td>\n",
       "      <td>3475.000000</td>\n",
       "      <td>3475.000000</td>\n",
       "      <td>3475.000000</td>\n",
       "      <td>3475.000000</td>\n",
       "      <td>3475.000000</td>\n",
       "      <td>3475.000000</td>\n",
       "      <td>3475.000000</td>\n",
       "      <td>3475.000000</td>\n",
       "      <td>3475.000000</td>\n",
       "    </tr>\n",
       "    <tr>\n",
       "      <th>mean</th>\n",
       "      <td>1750.952518</td>\n",
       "      <td>0.547626</td>\n",
       "      <td>48.776978</td>\n",
       "      <td>4.562302</td>\n",
       "      <td>1.757122</td>\n",
       "      <td>0.507338</td>\n",
       "      <td>10.686331</td>\n",
       "      <td>39.765180</td>\n",
       "      <td>2.037986</td>\n",
       "      <td>7.518273</td>\n",
       "      <td>547.285704</td>\n",
       "    </tr>\n",
       "    <tr>\n",
       "      <th>std</th>\n",
       "      <td>1009.596523</td>\n",
       "      <td>0.539960</td>\n",
       "      <td>28.608056</td>\n",
       "      <td>2.558316</td>\n",
       "      <td>0.835491</td>\n",
       "      <td>0.500018</td>\n",
       "      <td>5.613386</td>\n",
       "      <td>12.376603</td>\n",
       "      <td>0.680552</td>\n",
       "      <td>2.819538</td>\n",
       "      <td>230.794771</td>\n",
       "    </tr>\n",
       "    <tr>\n",
       "      <th>min</th>\n",
       "      <td>1.000000</td>\n",
       "      <td>0.000000</td>\n",
       "      <td>0.000000</td>\n",
       "      <td>1.000000</td>\n",
       "      <td>1.000000</td>\n",
       "      <td>0.000000</td>\n",
       "      <td>1.000000</td>\n",
       "      <td>15.000000</td>\n",
       "      <td>1.000000</td>\n",
       "      <td>1.000000</td>\n",
       "      <td>15.080000</td>\n",
       "    </tr>\n",
       "    <tr>\n",
       "      <th>25%</th>\n",
       "      <td>879.500000</td>\n",
       "      <td>0.000000</td>\n",
       "      <td>24.000000</td>\n",
       "      <td>2.000000</td>\n",
       "      <td>1.000000</td>\n",
       "      <td>0.000000</td>\n",
       "      <td>6.000000</td>\n",
       "      <td>31.000000</td>\n",
       "      <td>2.000000</td>\n",
       "      <td>6.000000</td>\n",
       "      <td>385.395000</td>\n",
       "    </tr>\n",
       "    <tr>\n",
       "      <th>50%</th>\n",
       "      <td>1752.000000</td>\n",
       "      <td>1.000000</td>\n",
       "      <td>48.000000</td>\n",
       "      <td>5.000000</td>\n",
       "      <td>2.000000</td>\n",
       "      <td>1.000000</td>\n",
       "      <td>11.000000</td>\n",
       "      <td>40.000000</td>\n",
       "      <td>2.000000</td>\n",
       "      <td>8.000000</td>\n",
       "      <td>531.162500</td>\n",
       "    </tr>\n",
       "    <tr>\n",
       "      <th>75%</th>\n",
       "      <td>2623.500000</td>\n",
       "      <td>1.000000</td>\n",
       "      <td>73.000000</td>\n",
       "      <td>7.000000</td>\n",
       "      <td>3.000000</td>\n",
       "      <td>1.000000</td>\n",
       "      <td>15.000000</td>\n",
       "      <td>49.000000</td>\n",
       "      <td>3.000000</td>\n",
       "      <td>10.000000</td>\n",
       "      <td>694.692000</td>\n",
       "    </tr>\n",
       "    <tr>\n",
       "      <th>max</th>\n",
       "      <td>3500.000000</td>\n",
       "      <td>2.000000</td>\n",
       "      <td>99.000000</td>\n",
       "      <td>9.000000</td>\n",
       "      <td>3.000000</td>\n",
       "      <td>1.000000</td>\n",
       "      <td>22.000000</td>\n",
       "      <td>64.000000</td>\n",
       "      <td>3.000000</td>\n",
       "      <td>12.000000</td>\n",
       "      <td>1365.655000</td>\n",
       "    </tr>\n",
       "  </tbody>\n",
       "</table>\n",
       "</div>"
      ],
      "text/plain": [
       "       customer_id       gender  past_3_years_bike_related_purchases  \\\n",
       "count  3475.000000  3475.000000                          3475.000000   \n",
       "mean   1750.952518     0.547626                            48.776978   \n",
       "std    1009.596523     0.539960                            28.608056   \n",
       "min       1.000000     0.000000                             0.000000   \n",
       "25%     879.500000     0.000000                            24.000000   \n",
       "50%    1752.000000     1.000000                            48.000000   \n",
       "75%    2623.500000     1.000000                            73.000000   \n",
       "max    3500.000000     2.000000                            99.000000   \n",
       "\n",
       "       job_industry_category  wealth_segment     owns_car       tenure  \\\n",
       "count            3475.000000     3475.000000  3475.000000  3475.000000   \n",
       "mean                4.562302        1.757122     0.507338    10.686331   \n",
       "std                 2.558316        0.835491     0.500018     5.613386   \n",
       "min                 1.000000        1.000000     0.000000     1.000000   \n",
       "25%                 2.000000        1.000000     0.000000     6.000000   \n",
       "50%                 5.000000        2.000000     1.000000    11.000000   \n",
       "75%                 7.000000        3.000000     1.000000    15.000000   \n",
       "max                 9.000000        3.000000     1.000000    22.000000   \n",
       "\n",
       "               Age        state  property_valuation  sales_profit  \n",
       "count  3475.000000  3475.000000         3475.000000   3475.000000  \n",
       "mean     39.765180     2.037986            7.518273    547.285704  \n",
       "std      12.376603     0.680552            2.819538    230.794771  \n",
       "min      15.000000     1.000000            1.000000     15.080000  \n",
       "25%      31.000000     2.000000            6.000000    385.395000  \n",
       "50%      40.000000     2.000000            8.000000    531.162500  \n",
       "75%      49.000000     3.000000           10.000000    694.692000  \n",
       "max      64.000000     3.000000           12.000000   1365.655000  "
      ]
     },
     "execution_count": 47,
     "metadata": {},
     "output_type": "execute_result"
    }
   ],
   "source": [
    "CustTransactData.describe()"
   ]
  }
 ],
 "metadata": {
  "kernelspec": {
   "display_name": "Python 3",
   "language": "python",
   "name": "python3"
  },
  "language_info": {
   "codemirror_mode": {
    "name": "ipython",
    "version": 3
   },
   "file_extension": ".py",
   "mimetype": "text/x-python",
   "name": "python",
   "nbconvert_exporter": "python",
   "pygments_lexer": "ipython3",
   "version": "3.7.6"
  }
 },
 "nbformat": 4,
 "nbformat_minor": 4
}
